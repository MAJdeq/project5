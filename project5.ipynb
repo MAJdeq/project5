{
 "cells": [
  {
   "cell_type": "markdown",
   "metadata": {},
   "source": [
    "# Project 5"
   ]
  },
  {
   "cell_type": "markdown",
   "metadata": {},
   "source": [
    "### Imports"
   ]
  },
  {
   "cell_type": "code",
   "execution_count": 69,
   "metadata": {},
   "outputs": [],
   "source": [
    "import pandas as pd\n",
    "import numpy as np\n",
    "import seaborn as sns\n",
    "from sklearn.naive_bayes import GaussianNB\n",
    "from sklearn.metrics import precision_recall_fscore_support\n",
    "from sklearn.model_selection import train_test_split\n",
    "from scipy.stats import ttest_ind\n",
    "\n",
    "import matplotlib.pyplot as plt"
   ]
  },
  {
   "cell_type": "markdown",
   "metadata": {},
   "source": [
    "### Add CSV"
   ]
  },
  {
   "cell_type": "code",
   "execution_count": null,
   "metadata": {},
   "outputs": [],
   "source": [
    "df_red = pd.read_csv('winequality-red.csv', sep=';')\n",
    "df_white = pd.read_csv('winequality-white.csv', sep=';')\n",
    "\n",
    "# Add a column to distinguish between red and white wines\n",
    "df_red['red'] = 1\n",
    "df_white['red'] = 0\n",
    "\n",
    "# Concatenate the two dataframes\n",
    "df_wine = pd.concat([df_red, df_white], ignore_index=True)\n",
    "\n",
    "# remove quality levels that don't meet a certain threshold\n",
    "quality_counts = df_wine['quality'].value_counts()\n",
    "\n",
    "min_records = 500 \n",
    "\n",
    "valid_quality_levels = quality_counts[quality_counts >= min_records].index\n",
    "\n",
    "df_wine = df_wine[df_wine['quality'].isin(valid_quality_levels)]\n",
    "print(df_wine['quality'].unique())\n",
    "\n",
    "# get rid of missing data\n",
    "df_wine.dropna(inplace=True)\n",
    "df_wine"
   ]
  },
  {
   "cell_type": "markdown",
   "metadata": {},
   "source": [
    "### Find best features"
   ]
  },
  {
   "cell_type": "code",
   "execution_count": null,
   "metadata": {},
   "outputs": [],
   "source": [
    "numeric = [\n",
    "    'fixed acidity',\n",
    "    'volatile acidity',\n",
    "    'citric acid',\n",
    "    'residual sugar',\n",
    "    'chlorides',\n",
    "    'free sulfur dioxide',\n",
    "    'total sulfur dioxide',\n",
    "    'density',\n",
    "    'pH',\n",
    "    'sulphates',\n",
    "    'alcohol',\n",
    "    'red'\n",
    "]\n",
    "\n",
    "fig, axs = plt.subplots(nrows=4, ncols=3, figsize=(20, 20))\n",
    "axs = axs.ravel()\n",
    "fig.suptitle('Numeric Features by Quality')\n",
    "for i in range(len(numeric)):\n",
    "    sns.kdeplot(data=df_wine, x=numeric[i], hue='quality', ax=axs[i], fill=True)\n",
    "plt.tight_layout()\n",
    "plt.show()"
   ]
  },
  {
   "cell_type": "code",
   "execution_count": null,
   "metadata": {},
   "outputs": [],
   "source": [
    "correlations = df_wine.corr()['quality'].sort_values(ascending=False)\n",
    "correlations = correlations.drop('quality')\n",
    "print(correlations)"
   ]
  },
  {
   "cell_type": "code",
   "execution_count": null,
   "metadata": {},
   "outputs": [],
   "source": [
    "correlations = correlations.apply(lambda x: abs(x)).sort_values(ascending=False)\n",
    "correlations"
   ]
  },
  {
   "cell_type": "markdown",
   "metadata": {},
   "source": [
    "### Perform Guassian Naive Bayes"
   ]
  },
  {
   "cell_type": "code",
   "execution_count": null,
   "metadata": {},
   "outputs": [],
   "source": [
    "list_of_features = correlations.index.tolist()\n",
    "\n",
    "for i in range(1, len(list_of_features) + 1):\n",
    "\n",
    "    selected_features = list_of_features[:i]\n",
    "    # Use Gaussian for datasets with quantitative variables\n",
    "    clf = GaussianNB()\n",
    "    X_train, X_test, y_train, y_test = train_test_split(df_wine[selected_features], df_wine['quality'], test_size=0.25)\n",
    "    clf.fit(X_train, y_train)\n",
    "    y_pred = clf.predict(X_test)\n",
    "    p,r,f,s = precision_recall_fscore_support(y_test, y_pred)\n",
    "    print(df_wine['quality'].unique())\n",
    "    print(f'precision={p}, recall={r}, f-score={f}, support={s}')"
   ]
  }
 ],
 "metadata": {
  "kernelspec": {
   "display_name": "Python 3",
   "language": "python",
   "name": "python3"
  },
  "language_info": {
   "codemirror_mode": {
    "name": "ipython",
    "version": 3
   },
   "file_extension": ".py",
   "mimetype": "text/x-python",
   "name": "python",
   "nbconvert_exporter": "python",
   "pygments_lexer": "ipython3",
   "version": "3.12.0"
  }
 },
 "nbformat": 4,
 "nbformat_minor": 2
}
